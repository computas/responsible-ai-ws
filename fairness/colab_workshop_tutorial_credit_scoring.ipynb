{
  "nbformat": 4,
  "nbformat_minor": 0,
  "metadata": {
    "kernelspec": {
      "display_name": "Python 3",
      "language": "python",
      "name": "python3"
    },
    "language_info": {
      "codemirror_mode": {
        "name": "ipython",
        "version": 3
      },
      "file_extension": ".py",
      "mimetype": "text/x-python",
      "name": "python",
      "nbconvert_exporter": "python",
      "pygments_lexer": "ipython3",
      "version": "3.6.7"
    },
    "colab": {
      "name": "colab_tutorial_credit_scoring.ipynb",
      "provenance": [],
      "include_colab_link": true
    }
  },
  "cells": [
    {
      "cell_type": "markdown",
      "metadata": {
        "id": "view-in-github",
        "colab_type": "text"
      },
      "source": [
        "<a href=\"https://colab.research.google.com/github/computas/responsible-ai-ws/blob/master/fairness/colab_workshop_tutorial_credit_scoring.ipynb\" target=\"_parent\"><img src=\"https://colab.research.google.com/assets/colab-badge.svg\" alt=\"Open In Colab\"/></a>"
      ]
    },
    {
      "cell_type": "markdown",
      "metadata": {
        "id": "oocYHAIfZWAZ",
        "colab_type": "text"
      },
      "source": [
        "If you you run this notebook in colab you need to run these inithial steps in order for colab to work:\n",
        "\n",
        "Make sure you are running in a python 3 environment. You can change your runtime environment by choosing\n",
        "\n",
        "`Runtime > Change runtime type`\n",
        "\n",
        "in the menu."
      ]
    },
    {
      "cell_type": "code",
      "metadata": {
        "id": "mInjxhdlZWAh",
        "colab_type": "code",
        "outputId": "fa3faa83-0aed-4f8d-da17-b084298d4ee6",
        "colab": {
          "base_uri": "https://localhost:8080/",
          "height": 34
        }
      },
      "source": [
        "!python --version"
      ],
      "execution_count": 1,
      "outputs": [
        {
          "output_type": "stream",
          "text": [
            "Python 3.6.9\n"
          ],
          "name": "stdout"
        }
      ]
    },
    {
      "cell_type": "code",
      "metadata": {
        "id": "x4hQ7n1vZWAr",
        "colab_type": "code",
        "outputId": "d1981749-959b-4217-d1d5-b239f748f928",
        "colab": {
          "base_uri": "https://localhost:8080/",
          "height": 34
        }
      },
      "source": [
        "!pip install -q -U \\\n",
        "  \"aif360[all]\" \\\n",
        "  tqdm \\\n",
        "  numpy \\\n",
        "  matplotlib \\\n",
        "  pandas \\\n",
        "  scipy \\\n",
        "  \"cvxpy>=1.0\" \\\n",
        "  scs \\\n",
        "  \"numba>=0.42.0\" \\\n",
        "# We don't need these for this notebook\n",
        "#  \"adversarial-robustness-toolbox>=1.0.0\" \\\n",
        "#  \"tensorflow>=1.13.1,<2\" \\\n",
        "#  networkx  \\\n",
        "#  \"imgaug<0.2.7,>=0.2.5\" \\\n",
        "#  BlackBoxAuditing \\\n",
        "#  lime \\\n",
        "#  \"pillow==7.0.0\" \\\n",
        "#  \"gast>=0.3.2\" \\\n",
        "#  \"scikit-learn==0.22.1\" \\\n"
      ],
      "execution_count": 5,
      "outputs": [
        {
          "output_type": "stream",
          "text": [
            "\u001b[33m  WARNING: aif360 0.2.3 does not provide the extra 'all'\u001b[0m\n"
          ],
          "name": "stdout"
        }
      ]
    },
    {
      "cell_type": "markdown",
      "metadata": {
        "id": "oKDfDYSslV8m",
        "colab_type": "text"
      },
      "source": [
        "# Patch for pandas\n",
        "\n",
        "There is an issue with Pandas 1.x and the implementation of the `standard_dataset.py` where we have to convert a Pandas series to a numpy array. After you apply the patch you will need to restart the runtime."
      ]
    },
    {
      "cell_type": "code",
      "metadata": {
        "id": "WVns2QpOlnXk",
        "colab_type": "code",
        "colab": {
          "base_uri": "https://localhost:8080/",
          "height": 34
        },
        "cellView": "form",
        "outputId": "d145756e-422c-4d12-9a44-c0de116c85ae"
      },
      "source": [
        "#@title Run this cell to patch `standard_dataset.py`.\n",
        "%%writefile /usr/local/lib/python3.6/dist-packages/aif360/datasets/standard_dataset.py\n",
        "from logging import warning\n",
        "\n",
        "import numpy as np\n",
        "import pandas as pd\n",
        "\n",
        "from aif360.datasets import BinaryLabelDataset\n",
        "\n",
        "\n",
        "class StandardDataset(BinaryLabelDataset):\n",
        "    \"\"\"Base class for every :obj:`BinaryLabelDataset` provided out of the box by\n",
        "    aif360.\n",
        "\n",
        "    It is not strictly necessary to inherit this class when adding custom\n",
        "    datasets but it may be useful.\n",
        "\n",
        "    This class is very loosely based on code from\n",
        "    https://github.com/algofairness/fairness-comparison.\n",
        "    \"\"\"\n",
        "\n",
        "    def __init__(self, df, label_name, favorable_classes,\n",
        "                 protected_attribute_names, privileged_classes,\n",
        "                 instance_weights_name='', scores_name='',\n",
        "                 categorical_features=[], features_to_keep=[],\n",
        "                 features_to_drop=[], na_values=[], custom_preprocessing=None,\n",
        "                 metadata=None):\n",
        "        \"\"\"\n",
        "        Subclasses of StandardDataset should perform the following before\n",
        "        calling `super().__init__`:\n",
        "\n",
        "            1. Load the dataframe from a raw file.\n",
        "\n",
        "        Then, this class will go through a standard preprocessing routine which:\n",
        "\n",
        "            2. (optional) Performs some dataset-specific preprocessing (e.g.\n",
        "               renaming columns/values, handling missing data).\n",
        "\n",
        "            3. Drops unrequested columns (see `features_to_keep` and\n",
        "               `features_to_drop` for details).\n",
        "\n",
        "            4. Drops rows with NA values.\n",
        "\n",
        "            5. Creates a one-hot encoding of the categorical variables.\n",
        "\n",
        "            6. Maps protected attributes to binary privileged/unprivileged\n",
        "               values (1/0).\n",
        "\n",
        "            7. Maps labels to binary favorable/unfavorable labels (1/0).\n",
        "\n",
        "        Args:\n",
        "            df (pandas.DataFrame): DataFrame on which to perform standard\n",
        "                processing.\n",
        "            label_name: Name of the label column in `df`.\n",
        "            favorable_classes (list or function): Label values which are\n",
        "                considered favorable or a boolean function which returns `True`\n",
        "                if favorable. All others are unfavorable. Label values are\n",
        "                mapped to 1 (favorable) and 0 (unfavorable) if they are not\n",
        "                already binary and numerical.\n",
        "            protected_attribute_names (list): List of names corresponding to\n",
        "                protected attribute columns in `df`.\n",
        "            privileged_classes (list(list or function)): Each element is\n",
        "                a list of values which are considered privileged or a boolean\n",
        "                function which return `True` if privileged for the corresponding\n",
        "                column in `protected_attribute_names`. All others are\n",
        "                unprivileged. Values are mapped to 1 (privileged) and 0\n",
        "                (unprivileged) if they are not already numerical.\n",
        "            instance_weights_name (optional): Name of the instance weights\n",
        "                column in `df`.\n",
        "            categorical_features (optional, list): List of column names in the\n",
        "                DataFrame which are to be expanded into one-hot vectors.\n",
        "            features_to_keep (optional, list): Column names to keep. All others\n",
        "                are dropped except those present in `protected_attribute_names`,\n",
        "                `categorical_features`, `label_name` or `instance_weights_name`.\n",
        "                Defaults to all columns if not provided.\n",
        "            features_to_drop (optional, list): Column names to drop. *Note: this\n",
        "                overrides* `features_to_keep`.\n",
        "            na_values (optional): Additional strings to recognize as NA. See\n",
        "                :func:`pandas.read_csv` for details.\n",
        "            custom_preprocessing (function): A function object which\n",
        "                acts on and returns a DataFrame (f: DataFrame -> DataFrame). If\n",
        "                `None`, no extra preprocessing is applied.\n",
        "            metadata (optional): Additional metadata to append.\n",
        "        \"\"\"\n",
        "        # 2. Perform dataset-specific preprocessing\n",
        "        if custom_preprocessing:\n",
        "            df = custom_preprocessing(df)\n",
        "\n",
        "        # 3. Drop unrequested columns\n",
        "        features_to_keep = features_to_keep or df.columns.tolist()\n",
        "        keep = (set(features_to_keep) | set(protected_attribute_names)\n",
        "              | set(categorical_features) | set([label_name]))\n",
        "        if instance_weights_name:\n",
        "            keep |= set([instance_weights_name])\n",
        "        df = df[sorted(keep - set(features_to_drop), key=df.columns.get_loc)]\n",
        "        categorical_features = sorted(set(categorical_features) - set(features_to_drop), key=df.columns.get_loc)\n",
        "\n",
        "        # 4. Remove any rows that have missing data.\n",
        "        dropped = df.dropna()\n",
        "        count = df.shape[0] - dropped.shape[0]\n",
        "        if count > 0:\n",
        "            warning(\"Missing Data: {} rows removed from {}.\".format(count,\n",
        "                    type(self).__name__))\n",
        "        df = dropped\n",
        "\n",
        "        # 5. Create a one-hot encoding of the categorical variables.\n",
        "        df = pd.get_dummies(df, columns=categorical_features, prefix_sep='=')\n",
        "\n",
        "        # 6. Map protected attributes to privileged/unprivileged\n",
        "        privileged_protected_attributes = []\n",
        "        unprivileged_protected_attributes = []\n",
        "        for attr, vals in zip(protected_attribute_names, privileged_classes):\n",
        "            privileged_values = [1.]\n",
        "            unprivileged_values = [0.]\n",
        "            if callable(vals):\n",
        "                df[attr] = df[attr].apply(vals)\n",
        "            elif np.issubdtype(df[attr].dtype, np.number):\n",
        "                # this attribute is numeric; no remapping needed\n",
        "                privileged_values = vals\n",
        "                unprivileged_values = list(set(df[attr]).difference(vals))\n",
        "            else:\n",
        "                # find all instances which match any of the attribute values\n",
        "                priv = np.logical_or.reduce(np.equal.outer(vals, df[attr].to_numpy()))\n",
        "                df.loc[priv, attr] = privileged_values[0]\n",
        "                df.loc[~priv, attr] = unprivileged_values[0]\n",
        "\n",
        "            privileged_protected_attributes.append(\n",
        "                np.array(privileged_values, dtype=np.float64))\n",
        "            unprivileged_protected_attributes.append(\n",
        "                np.array(unprivileged_values, dtype=np.float64))\n",
        "\n",
        "        # 7. Make labels binary\n",
        "        favorable_label = 1.\n",
        "        unfavorable_label = 0.\n",
        "        if callable(favorable_classes):\n",
        "            df[label_name] = df[label_name].apply(favorable_classes)\n",
        "        elif np.issubdtype(df[label_name], np.number) and len(set(df[label_name])) == 2:\n",
        "            # labels are already binary; don't change them\n",
        "            favorable_label = favorable_classes[0]\n",
        "            unfavorable_label = set(df[label_name]).difference(favorable_classes).pop()\n",
        "        else:\n",
        "            # find all instances which match any of the favorable classes\n",
        "            pos = np.logical_or.reduce(np.equal.outer(favorable_classes,\n",
        "                                                      df[label_name].to_numpy()))\n",
        "            df.loc[pos, label_name] = favorable_label\n",
        "            df.loc[~pos, label_name] = unfavorable_label\n",
        "\n",
        "        super(StandardDataset, self).__init__(df=df, label_names=[label_name],\n",
        "            protected_attribute_names=protected_attribute_names,\n",
        "            privileged_protected_attributes=privileged_protected_attributes,\n",
        "            unprivileged_protected_attributes=unprivileged_protected_attributes,\n",
        "            instance_weights_name=instance_weights_name,\n",
        "            scores_names=[scores_name] if scores_name else [],\n",
        "            favorable_label=favorable_label,\n",
        "            unfavorable_label=unfavorable_label, metadata=metadata)"
      ],
      "execution_count": 6,
      "outputs": [
        {
          "output_type": "stream",
          "text": [
            "Overwriting /usr/local/lib/python3.6/dist-packages/aif360/datasets/standard_dataset.py\n"
          ],
          "name": "stdout"
        }
      ]
    },
    {
      "cell_type": "markdown",
      "metadata": {
        "id": "YmonoUcjNI1G",
        "colab_type": "text"
      },
      "source": [
        "# Notes\n",
        "- The above pip command is created using AIF360's [requirements.txt](https://github.com/josephineHonore/AIF360/blob/master/requirements.txt). At the moment, the job to update these libraries is manual.\n",
        "- The original notebook uses Markdown to display formated text. Currently this is [unsupported](https://github.com/googlecolab/colabtools/issues/322) in Colab.\n",
        "- We have added code to fix the random seeds for reproducibility"
      ]
    },
    {
      "cell_type": "markdown",
      "metadata": {
        "id": "m7VvXsFofTZq",
        "colab_type": "text"
      },
      "source": [
        ""
      ]
    },
    {
      "cell_type": "code",
      "metadata": {
        "id": "WAA7OH37fTv7",
        "colab_type": "code",
        "colab": {}
      },
      "source": [
        "def printb(text):\n",
        "  \"\"\"Auxiliar function to print in bold.\n",
        "    Compensates for bug in Colab that doesn't show Markdown(diplay('text'))\n",
        "  \"\"\"\n",
        "  print('\\x1b[1;30m'+text+'\\x1b[0m')"
      ],
      "execution_count": 0,
      "outputs": []
    },
    {
      "cell_type": "markdown",
      "metadata": {
        "id": "mofTT8OFZWAu",
        "colab_type": "text"
      },
      "source": [
        "# Detecting and mitigating age bias on credit decisions \n",
        "\n",
        "The goal of this tutorial is to introduce the basic functionality of AI Fairness 360 to an interested developer who may not have a background in bias detection and mitigation.\n",
        "\n",
        "### Biases and Machine Learning\n",
        "A machine learning model makes predictions of an outcome for a particular instance. (Given an instance of a loan application, predict if the applicant will repay the loan.) The model makes these predictions based on a training dataset, where many other instances (other loan applications) and actual outcomes (whether they repaid) are provided. Thus, a machine learning algorithm will attempt to find patterns, or generalizations, in the training dataset to use when a prediction for a new instance is needed. (For example, one pattern it might discover is \"if a person has salary > USD 40K and has outstanding debt < USD 5, they will repay the loan\".) In many domains this technique, called supervised machine learning, has worked very well.\n",
        "\n",
        "However, sometimes the patterns that are found may not be desirable or may even be illegal. For example, a loan repay model may determine that age plays a significant role in the prediction of repayment because the training dataset happened to have better repayment for one age group than for another. This raises two problems: 1) the training dataset may not be representative of the true population of people of all age groups, and 2) even if it is representative, it is illegal to base any decision on a applicant's age, regardless of whether this is a good prediction based on historical data.\n",
        "\n",
        "AI Fairness 360 is designed to help address this problem with _fairness metrics_ and _bias mitigators_.  Fairness metrics can be used to check for bias in machine learning workflows.  Bias mitigators can be used to overcome bias in the workflow to produce a more fair outcome. \n",
        "\n",
        "The loan scenario describes an intuitive example of illegal bias. However, not all undesirable bias in machine learning is illegal it may also exist in more subtle ways.  For example, a loan company may want a diverse portfolio of customers across all income levels, and thus, will deem it undesirable if they are making more loans to high income levels over low income levels.  Although this is not illegal or unethical, it is undesirable for the company's strategy.\n",
        "\n",
        "As these two examples illustrate, a bias detection and/or mitigation toolkit needs to be tailored to the particular bias of interest.  More specifically, it needs to know the attribute or attributes, called _protected attributes_, that are of interest: race is one example of a _protected attribute_ and age is a second.\n",
        "\n",
        "### The Machine Learning Workflow\n",
        "To understand how bias can enter a machine learning model, we first review the basics of how a model is created in a supervised machine learning process.  \n",
        "\n",
        "\n",
        "\n",
        "![image](https://github.com/IBM/AIF360/blob/master/examples/images/Complex_NoProc_V3.jpg?raw=true)\n",
        "\n",
        "\n",
        "\n",
        "\n",
        "\n",
        "\n",
        "\n",
        "First, the process starts with a _training dataset_, which contains a sequence of instances, where each instance has two components: the features and the correct prediction for those features.  Next, a machine learning algorithm is trained on this training dataset to produce a machine learning model.  This generated model can be used to make a prediction when given a new instance.  A second dataset with features and correct predictions, called a _test dataset_, is used to assess the accuracy of the model.\n",
        "Since this test dataset is the same format as the training dataset, a set of instances of features and prediction pairs, often these two datasets derive from the same initial dataset.  A random partitioning algorithm is used to split the initial dataset into training and test datasets.\n",
        "\n",
        "Bias can enter the system in any of the three steps above.  The training data set may be biased in that its outcomes may be biased towards particular kinds of instances.  The algorithm that creates the model may be biased in that it may generate models that are weighted towards particular features in the input. The test data set may be biased in that it has expectations on correct answers that may be biased.  These three points in the machine learning process represent points for testing and mitigating bias.  In AI Fairness 360 codebase, we call these points _pre-processing_, _in-processing_, and _post-processing_. \n",
        "\n",
        "### AI Fairness 360\n",
        "We are now ready to utilize AI Fairness 360 (`aif360`) to detect and mitigate bias.  We will use the German credit dataset, splitting it into a training and test dataset.  We will look for bias in the creation of a machine learning model to predict if an applicant should be given credit based on various features from a typical credit application.  The protected attribute will be \"Age\", with \"1\" (older than or equal to 25) and \"0\" (younger than 25) being the values for the privileged and unprivileged groups, respectively.\n",
        "For this first tutorial, we will check for bias in the initial training data, mitigate the bias, and recheck.  More sophisticated machine learning workflows are given in the author tutorials and demo notebooks in the codebase.\n",
        "\n",
        "Here are the steps involved\n",
        "#### Step 1: Write import statements\n",
        "#### Step 2: Set bias detection options, load dataset, and split between train and test\n",
        "#### Step 3: Compute fairness metric on original training dataset\n",
        "#### Step 4: Mitigate bias by transforming the original dataset\n",
        "#### Step 5: Compute fairness metric on transformed training dataset\n",
        "\n"
      ]
    },
    {
      "cell_type": "markdown",
      "metadata": {
        "id": "6WQA_eZqZWAx",
        "colab_type": "text"
      },
      "source": [
        "### Step 1 Import Statements\n",
        "As with any python program, the first step will be to import the necessary packages.  Below we import several components from the `aif360` package.  We import the GermanDataset, metrics to check for bias, and classes related to the algorithm we will use to mitigate bias."
      ]
    },
    {
      "cell_type": "code",
      "metadata": {
        "id": "u4Oks3wqZWAx",
        "colab_type": "code",
        "colab": {
          "base_uri": "https://localhost:8080/",
          "height": 68
        },
        "outputId": "ba4e060b-9912-49bd-cc28-41f6c510b05f"
      },
      "source": [
        "# Load all necessary packages\n",
        "import sys\n",
        "sys.path.insert(1, \"../\")  \n",
        "\n",
        "import numpy as np\n",
        "np.random.seed(0)\n",
        "\n",
        "from aif360.datasets import GermanDataset\n",
        "from aif360.metrics import BinaryLabelDatasetMetric\n",
        "from aif360.algorithms.preprocessing import Reweighing\n",
        "\n",
        "from IPython.display import Markdown, display"
      ],
      "execution_count": 2,
      "outputs": [
        {
          "output_type": "stream",
          "text": [
            "/usr/local/lib/python3.6/dist-packages/aif360/algorithms/preprocessing/lfr_helpers/helpers.py:2: NumbaDeprecationWarning: An import was requested from a module that has moved location.\n",
            "Import of 'jit' requested from: 'numba.decorators', please update to use 'numba.core.decorators' or pin to Numba version 0.48.0. This alias will not be present in Numba version 0.50.0.\n",
            "  from numba.decorators import jit\n"
          ],
          "name": "stderr"
        }
      ]
    },
    {
      "cell_type": "markdown",
      "metadata": {
        "id": "1Dh2jnIOZWAz",
        "colab_type": "text"
      },
      "source": [
        "### Step 2 Load dataset, specifying protected attribute, and split dataset into train and test\n",
        "In Step 2 we load the initial dataset, setting the protected attribute to be age.  We then splits the original dataset into training and testing datasets.  Although we will use only  the training dataset in this tutorial, a normal workflow would also use a test dataset for assessing the efficacy (accuracy, fairness, etc.) during the development of a machine learning model.  Finally, we set two variables (to be used in Step 3) for the privileged (1) and unprivileged (0) values for the age attribute.  These are key inputs for detecting and mitigating bias, which will be Step 3 and Step 4.  "
      ]
    },
    {
      "cell_type": "code",
      "metadata": {
        "id": "Q8F8DlftZWA0",
        "colab_type": "code",
        "colab": {}
      },
      "source": [
        "SEED = 42\n",
        "dataset_orig = GermanDataset(\n",
        "    protected_attribute_names=['age'],           # this dataset also contains protected\n",
        "                                                 # attribute for \"sex\" which we do not\n",
        "                                                 # consider in this evaluation\n",
        "    privileged_classes=[lambda x: x >= 25],      # age >=25 is considered privileged\n",
        "    features_to_drop=['personal_status', 'sex'] # ignore sex-related attributes\n",
        ")\n",
        "\n",
        "dataset_orig_train, dataset_orig_test = dataset_orig.split([0.7], shuffle=True, seed=SEED)\n",
        "\n",
        "privileged_groups = [{'age': 1}]\n",
        "unprivileged_groups = [{'age': 0}]"
      ],
      "execution_count": 0,
      "outputs": []
    },
    {
      "cell_type": "markdown",
      "metadata": {
        "id": "ZZyZ41H5ZWA3",
        "colab_type": "text"
      },
      "source": [
        "### Step 3 Compute fairness metric on original training dataset\n",
        "Now that we've identified the protected attribute 'age' and defined privileged and unprivileged values, we can use aif360 to detect bias in the dataset.  One simple test is to compare the percentage of favorable results for the privileged and unprivileged groups, subtracting the former percentage from the latter.   A negative value indicates less favorable outcomes for the unprivileged groups.  This is implemented in the method called mean_difference on the BinaryLabelDatasetMetric class.  The code below performs this check and displays the output, showing that the difference is -0.169905."
      ]
    },
    {
      "cell_type": "code",
      "metadata": {
        "id": "Owj_fVwsZWA3",
        "colab_type": "code",
        "outputId": "d1ed9c61-5adb-4c0d-f883-bc466a2bb959",
        "colab": {
          "base_uri": "https://localhost:8080/",
          "height": 51
        }
      },
      "source": [
        "metric_orig_train = BinaryLabelDatasetMetric(dataset_orig_train, \n",
        "                                             unprivileged_groups=unprivileged_groups,\n",
        "                                             privileged_groups=privileged_groups)\n",
        "#display(Markdown(\"#### Original training dataset\"))\n",
        "printb(\"#### Original training dataset\")\n",
        "print(\"Difference in mean outcomes between unprivileged and privileged groups = %f\" % metric_orig_train.mean_difference())"
      ],
      "execution_count": 4,
      "outputs": [
        {
          "output_type": "stream",
          "text": [
            "\u001b[1;30m#### Original training dataset\u001b[0m\n",
            "Difference in mean outcomes between unprivileged and privileged groups = -0.127143\n"
          ],
          "name": "stdout"
        }
      ]
    },
    {
      "cell_type": "markdown",
      "metadata": {
        "id": "I7Odz6OxZWA-",
        "colab_type": "text"
      },
      "source": [
        "### Step 4 Mitigate bias by transforming the original dataset\n",
        "The previous step showed that the privileged group was getting 17% more positive outcomes in the training dataset.   Since this is not desirable, we are going to try to mitigate this bias in the training dataset.  As stated above, this is called _pre-processing_ mitigation because it happens before the creation of the model.  \n",
        "\n",
        "AI Fairness 360 implements several pre-processing mitigation algorithms.  We will choose the Reweighing algorithm [1], which is implemented in the `Reweighing` class in the `aif360.algorithms.preprocessing` package.  This algorithm will transform the dataset to have more equity in positive outcomes on the protected attribute for the privileged and unprivileged groups.\n",
        "\n",
        "We then call the fit and transform methods to perform the transformation, producing a newly transformed training dataset (dataset_transf_train).\n",
        "\n",
        "`[1] F. Kamiran and T. Calders,  \"Data Preprocessing Techniques for Classification without Discrimination,\" Knowledge and Information Systems, 2012.`"
      ]
    },
    {
      "cell_type": "code",
      "metadata": {
        "id": "4aesMW1qZWA_",
        "colab_type": "code",
        "colab": {}
      },
      "source": [
        "RW = Reweighing(unprivileged_groups=unprivileged_groups,\n",
        "                privileged_groups=privileged_groups)\n",
        "dataset_transf_train = RW.fit_transform(dataset_orig_train)"
      ],
      "execution_count": 0,
      "outputs": []
    },
    {
      "cell_type": "markdown",
      "metadata": {
        "id": "KiU5scaEZWBD",
        "colab_type": "text"
      },
      "source": [
        "### Step 5 Compute fairness metric on transformed dataset\n",
        "Now that we have a transformed dataset, we can check how effective it was in removing bias by using the same metric we used for the original training dataset in Step 3.  Once again, we use the function mean_difference in the BinaryLabelDatasetMetric class.   We see the mitigation step was very effective, the difference in mean outcomes is now 0.0.  So we went from a 17% advantage for the privileged group to equality in terms of mean outcome."
      ]
    },
    {
      "cell_type": "code",
      "metadata": {
        "id": "aQ-8COPBZWBE",
        "colab_type": "code",
        "outputId": "7bd1728e-5e32-4cef-d842-b3f6dfbc1baa",
        "colab": {
          "base_uri": "https://localhost:8080/",
          "height": 51
        }
      },
      "source": [
        "metric_transf_train = BinaryLabelDatasetMetric(dataset_transf_train, \n",
        "                                               unprivileged_groups=unprivileged_groups,\n",
        "                                               privileged_groups=privileged_groups)\n",
        "\n",
        "printb(\"#### Transformed training dataset\")\n",
        "print(\"Difference in mean outcomes between unprivileged and privileged groups = %f\" % metric_transf_train.mean_difference())"
      ],
      "execution_count": 6,
      "outputs": [
        {
          "output_type": "stream",
          "text": [
            "\u001b[1;30m#### Transformed training dataset\u001b[0m\n",
            "Difference in mean outcomes between unprivileged and privileged groups = 0.000000\n"
          ],
          "name": "stdout"
        }
      ]
    },
    {
      "cell_type": "markdown",
      "metadata": {
        "id": "qqDzXPIWK7bm",
        "colab_type": "text"
      },
      "source": [
        "# Excercises and questions\n",
        "\n",
        "Let's make sure you understand what you just did while working on this notebook\n",
        "\n",
        "1. Change the dataset to a different build in standard dataset. Consider what variable you wish to consider as the senstive variables, and how to define the \n",
        "   privileged_groups and the unprivileged_groups.\n",
        "   \n",
        "   Tip: consider the doumentation of the chosen standart dataset to learn what attributes are valid as  protected_attribute_names\n",
        "\n",
        "2. Look in the documentation and find the disparate impact metric. Add the evaluation of disparate impact to the notebook and try to understand the difference of the two measures `disparat impact` and `mean difference`. \n"
      ]
    },
    {
      "cell_type": "markdown",
      "metadata": {
        "id": "Pd8OeVE_ZWBG",
        "colab_type": "text"
      },
      "source": [
        "### Summary\n",
        "The purpose of this tutorial is to give a new user to bias detection and mitigation a gentle introduction to some of the functionality of AI Fairness 360.  A more complete use case would take the next step and see how the transformed dataset impacts the accuracy and fairness of a trained model.  This is implemented in the demo notebook in the examples directory of toolkit, called demo_reweighing_preproc.ipynb.  I highly encourage readers to view that notebook as it is  generalization and extension of this simple tutorial.\n",
        "\n",
        "There are many metrics one can use to detect the presence of bias. AI Fairness 360 provides many of them for your use. Since it is not clear which of these metrics to use, we also provide some guidance. Likewise, there are many different bias mitigation algorithms one can employ, many of which are in AI Fairness 360. Other tutorials will demonstrate the use of some of these metrics and mitigations algorithms.\n",
        "\n",
        "As mentioned earlier, both fairness metrics and mitigation algorithms can be performed at various stages of the machine learning pipeline.  We recommend checking for bias as often as possible, using as many metrics are relevant for the application domain.  We also recommend incorporating bias detection in an automated continouus integration pipeline to ensure bias awareness as a software project evolves."
      ]
    },
    {
      "cell_type": "code",
      "metadata": {
        "id": "oLubXOePZRBs",
        "colab_type": "code",
        "colab": {}
      },
      "source": [
        ""
      ],
      "execution_count": 0,
      "outputs": []
    },
    {
      "cell_type": "code",
      "metadata": {
        "id": "8QeruiSynXoK",
        "colab_type": "code",
        "colab": {}
      },
      "source": [
        ""
      ],
      "execution_count": 0,
      "outputs": []
    },
    {
      "cell_type": "code",
      "metadata": {
        "id": "zaogiVeWnXrE",
        "colab_type": "code",
        "colab": {}
      },
      "source": [
        ""
      ],
      "execution_count": 0,
      "outputs": []
    },
    {
      "cell_type": "code",
      "metadata": {
        "id": "SsZdFAq5nXtq",
        "colab_type": "code",
        "colab": {}
      },
      "source": [
        ""
      ],
      "execution_count": 0,
      "outputs": []
    },
    {
      "cell_type": "code",
      "metadata": {
        "id": "bYIV91xunX2b",
        "colab_type": "code",
        "colab": {}
      },
      "source": [
        ""
      ],
      "execution_count": 0,
      "outputs": []
    },
    {
      "cell_type": "code",
      "metadata": {
        "id": "SKwgMh9qnX7P",
        "colab_type": "code",
        "colab": {}
      },
      "source": [
        ""
      ],
      "execution_count": 0,
      "outputs": []
    },
    {
      "cell_type": "code",
      "metadata": {
        "id": "oFX8iEFGnX-K",
        "colab_type": "code",
        "colab": {}
      },
      "source": [
        ""
      ],
      "execution_count": 0,
      "outputs": []
    },
    {
      "cell_type": "code",
      "metadata": {
        "id": "6OahPZ-xnX5K",
        "colab_type": "code",
        "colab": {}
      },
      "source": [
        ""
      ],
      "execution_count": 0,
      "outputs": []
    },
    {
      "cell_type": "code",
      "metadata": {
        "id": "Od256ehEnX0B",
        "colab_type": "code",
        "colab": {}
      },
      "source": [
        ""
      ],
      "execution_count": 0,
      "outputs": []
    },
    {
      "cell_type": "code",
      "metadata": {
        "id": "KNo4Wd2tnXyB",
        "colab_type": "code",
        "colab": {}
      },
      "source": [
        ""
      ],
      "execution_count": 0,
      "outputs": []
    },
    {
      "cell_type": "code",
      "metadata": {
        "id": "xmgbhMPZnXwO",
        "colab_type": "code",
        "colab": {}
      },
      "source": [
        ""
      ],
      "execution_count": 0,
      "outputs": []
    },
    {
      "cell_type": "markdown",
      "metadata": {
        "id": "VfZZZgrZoeeY",
        "colab_type": "text"
      },
      "source": [
        "# Solution Excercise 1"
      ]
    },
    {
      "cell_type": "markdown",
      "metadata": {
        "id": "Hp_d7HNqomxu",
        "colab_type": "text"
      },
      "source": [
        "Let's try with the `AdultDataset`"
      ]
    },
    {
      "cell_type": "code",
      "metadata": {
        "id": "T97MRcJKZRSE",
        "colab_type": "code",
        "colab": {}
      },
      "source": [
        "from aif360.datasets import AdultDataset"
      ],
      "execution_count": 0,
      "outputs": []
    },
    {
      "cell_type": "markdown",
      "metadata": {
        "id": "3oOwjD_3orAK",
        "colab_type": "text"
      },
      "source": [
        "We can load the dataset and use built-in functions to get the sensitive attributes:"
      ]
    },
    {
      "cell_type": "code",
      "metadata": {
        "id": "WegTEexxaeQ5",
        "colab_type": "code",
        "colab": {
          "base_uri": "https://localhost:8080/",
          "height": 34
        },
        "outputId": "e9e2bc23-75c8-45c0-f153-bdbca3d06517"
      },
      "source": [
        "adult_dataset = AdultDataset()\n",
        "adult_dataset_train, adult_dataset_test = adult_dataset.split([0.7], shuffle=True)"
      ],
      "execution_count": 9,
      "outputs": [
        {
          "output_type": "stream",
          "text": [
            "WARNING:root:Missing Data: 3620 rows removed from AdultDataset.\n"
          ],
          "name": "stderr"
        }
      ]
    },
    {
      "cell_type": "code",
      "metadata": {
        "id": "ud6k8wVLZZ5b",
        "colab_type": "code",
        "colab": {
          "base_uri": "https://localhost:8080/",
          "height": 68
        },
        "outputId": "7c73dc55-443b-4447-d59a-7ac1d677a76a"
      },
      "source": [
        "# Metric for the original dataset\n",
        "sensitive_attributes = adult_dataset_train.protected_attribute_names\n",
        "print(\"Sensitive attributes for this dataset: {attr}\".format(attr=sensitive_attributes))\n",
        "\n",
        "sens_attr = sensitive_attributes[0]\n",
        "sensitive_atributes_idx = adult_dataset_train.protected_attribute_names.index(sensitive_attributes[0])\n",
        "privileged_groups =  [{sens_attr:adult_dataset_train.privileged_protected_attributes[sensitive_atributes_idx][0]}] \n",
        "print(\"The priviledged group is: {groups}\".format(groups=privileged_groups))\n",
        "\n",
        "unprivileged_groups = [{sens_attr:adult_dataset_train.unprivileged_protected_attributes[sensitive_atributes_idx][0]}] \n",
        "print(\"The unpriviledged group is: {groups}\".format(groups=unprivileged_groups))"
      ],
      "execution_count": 13,
      "outputs": [
        {
          "output_type": "stream",
          "text": [
            "Sensitive attributes for this dataset: ['race', 'sex']\n",
            "The priviledged group is: [{'race': 1.0}]\n",
            "The unpriviledged group is: [{'race': 0.0}]\n"
          ],
          "name": "stdout"
        }
      ]
    },
    {
      "cell_type": "code",
      "metadata": {
        "id": "uJrTUEhVdqFF",
        "colab_type": "code",
        "colab": {
          "base_uri": "https://localhost:8080/",
          "height": 51
        },
        "outputId": "a708c1a8-7d89-4a7c-c0a9-e59ec14ce0db"
      },
      "source": [
        "metric_orig_train = BinaryLabelDatasetMetric(adult_dataset_train, \n",
        "                                             unprivileged_groups=unprivileged_groups,\n",
        "                                             privileged_groups=privileged_groups)\n",
        "#display(Markdown(\"#### Original training dataset\"))\n",
        "printb(\"#### Original training dataset\")\n",
        "print(\"Difference in mean outcomes between privileged and unprivileged groups = %f\" % metric_orig_train.mean_difference())"
      ],
      "execution_count": 17,
      "outputs": [
        {
          "output_type": "stream",
          "text": [
            "\u001b[1;30m#### Original training dataset\u001b[0m\n",
            "Difference in mean outcomes between privileged and unprivileged groups = -0.108091\n"
          ],
          "name": "stdout"
        }
      ]
    },
    {
      "cell_type": "code",
      "metadata": {
        "id": "VG0O8VgckMrg",
        "colab_type": "code",
        "colab": {}
      },
      "source": [
        "RW = Reweighing(unprivileged_groups=unprivileged_groups,\n",
        "               privileged_groups=privileged_groups)\n",
        "RW.fit(adult_dataset_train)\n",
        "dataset_transf_train = RW.transform(adult_dataset_train)"
      ],
      "execution_count": 0,
      "outputs": []
    },
    {
      "cell_type": "code",
      "metadata": {
        "id": "ywkvmzOaqxoq",
        "colab_type": "code",
        "colab": {
          "base_uri": "https://localhost:8080/",
          "height": 51
        },
        "outputId": "03f8f9ff-1459-47f6-9e95-0c6d1e85daa8"
      },
      "source": [
        "metric_transf_train = BinaryLabelDatasetMetric(dataset_transf_train, \n",
        "                                               unprivileged_groups=unprivileged_groups,\n",
        "                                               privileged_groups=privileged_groups)\n",
        "\n",
        "printb(\"#### Transformed training dataset\")\n",
        "print(\"Difference in mean outcomes between unprivileged and privileged groups = %f\" % metric_transf_train.mean_difference())"
      ],
      "execution_count": 19,
      "outputs": [
        {
          "output_type": "stream",
          "text": [
            "\u001b[1;30m#### Transformed training dataset\u001b[0m\n",
            "Difference in mean outcomes between unprivileged and privileged groups = 0.000000\n"
          ],
          "name": "stdout"
        }
      ]
    },
    {
      "cell_type": "markdown",
      "metadata": {
        "id": "-c9Dxio3rHLU",
        "colab_type": "text"
      },
      "source": [
        "# Solution to Excercise 2"
      ]
    },
    {
      "cell_type": "code",
      "metadata": {
        "id": "_W9mLVmzq1w1",
        "colab_type": "code",
        "colab": {
          "base_uri": "https://localhost:8080/",
          "height": 51
        },
        "outputId": "5c96c659-9e01-4745-f3d6-2e70d740bd2e"
      },
      "source": [
        "printb(\"#### Transformed training dataset\")\n",
        "print(\"The ratio of the disparate impact in outcomes between unprivileged and privileged groups = %f\" % metric_transf_train.disparate_impact())"
      ],
      "execution_count": 21,
      "outputs": [
        {
          "output_type": "stream",
          "text": [
            "\u001b[1;30m#### Transformed training dataset\u001b[0m\n",
            "The ratio of the disparate impact in outcomes between unprivileged and privileged groups = 1.000000\n"
          ],
          "name": "stdout"
        }
      ]
    },
    {
      "cell_type": "code",
      "metadata": {
        "id": "cStqLXn4q_Gi",
        "colab_type": "code",
        "colab": {}
      },
      "source": [
        ""
      ],
      "execution_count": 0,
      "outputs": []
    }
  ]
}